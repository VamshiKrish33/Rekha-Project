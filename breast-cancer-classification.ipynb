{
 "cells": [
  {
   "cell_type": "code",
   "execution_count": 24,
   "id": "d14827a0",
   "metadata": {
    "_cell_guid": "b1076dfc-b9ad-4769-8c92-a6c4dae69d19",
    "_uuid": "8f2839f25d086af736a60e9eeb907d3b93b6e0e5",
    "papermill": {
     "duration": 7.89872,
     "end_time": "2023-05-21T12:13:06.000770",
     "exception": false,
     "start_time": "2023-05-21T12:12:58.102050",
     "status": "completed"
    },
    "tags": []
   },
   "outputs": [
    {
     "ename": "FileNotFoundError",
     "evalue": "[Errno 2] No such file or directory: '/kaggle/input/breast-ultrasound-images-dataset/Dataset_BUSI_with_GT/normal'",
     "output_type": "error",
     "traceback": [
      "\u001b[0;31m---------------------------------------------------------------------------\u001b[0m",
      "\u001b[0;31mFileNotFoundError\u001b[0m                         Traceback (most recent call last)",
      "Cell \u001b[0;32mIn[24], line 11\u001b[0m\n\u001b[1;32m      9\u001b[0m normal_images \u001b[38;5;241m=\u001b[39m []\n\u001b[1;32m     10\u001b[0m folder_path \u001b[38;5;241m=\u001b[39m \u001b[38;5;124m\"\u001b[39m\u001b[38;5;124m/kaggle/input/breast-ultrasound-images-dataset/Dataset_BUSI_with_GT/normal\u001b[39m\u001b[38;5;124m\"\u001b[39m\n\u001b[0;32m---> 11\u001b[0m normal_images \u001b[38;5;241m=\u001b[39m [os\u001b[38;5;241m.\u001b[39mpath\u001b[38;5;241m.\u001b[39mjoin(folder_path, filename) \u001b[38;5;28;01mfor\u001b[39;00m filename \u001b[38;5;129;01min\u001b[39;00m os\u001b[38;5;241m.\u001b[39mlistdir(folder_path) \u001b[38;5;28;01mif\u001b[39;00m \u001b[38;5;124m\"\u001b[39m\u001b[38;5;124m_mask\u001b[39m\u001b[38;5;124m\"\u001b[39m \u001b[38;5;129;01mnot\u001b[39;00m \u001b[38;5;129;01min\u001b[39;00m filename]\n\u001b[1;32m     13\u001b[0m folder_path \u001b[38;5;241m=\u001b[39m \u001b[38;5;124m\"\u001b[39m\u001b[38;5;124m/kaggle/input/breast-ultrasound-images-dataset/Dataset_BUSI_with_GT/benign\u001b[39m\u001b[38;5;124m\"\u001b[39m\n\u001b[1;32m     14\u001b[0m benign_images \u001b[38;5;241m=\u001b[39m [os\u001b[38;5;241m.\u001b[39mpath\u001b[38;5;241m.\u001b[39mjoin(folder_path, filename) \u001b[38;5;28;01mfor\u001b[39;00m filename \u001b[38;5;129;01min\u001b[39;00m os\u001b[38;5;241m.\u001b[39mlistdir(folder_path) \u001b[38;5;28;01mif\u001b[39;00m \u001b[38;5;124m\"\u001b[39m\u001b[38;5;124m_mask\u001b[39m\u001b[38;5;124m\"\u001b[39m \u001b[38;5;129;01mnot\u001b[39;00m \u001b[38;5;129;01min\u001b[39;00m filename]\n",
      "\u001b[0;31mFileNotFoundError\u001b[0m: [Errno 2] No such file or directory: '/kaggle/input/breast-ultrasound-images-dataset/Dataset_BUSI_with_GT/normal'"
     ]
    }
   ],
   "source": [
    "import os\n",
    "import numpy as np \n",
    "import pandas as pd \n",
    "import matplotlib.pyplot as plt\n",
    "import tensorflow as tf\n",
    "from tensorflow import keras\n",
    "import cv2\n",
    "\n",
    "normal_images = []\n",
    "folder_path = \"/kaggle/input/breast-ultrasound-images-dataset/Dataset_BUSI_with_GT/normal\"\n",
    "normal_images = [os.path.join(folder_path, filename) for filename in os.listdir(folder_path) if \"_mask\" not in filename]\n",
    "\n",
    "folder_path = \"/kaggle/input/breast-ultrasound-images-dataset/Dataset_BUSI_with_GT/benign\"\n",
    "benign_images = [os.path.join(folder_path, filename) for filename in os.listdir(folder_path) if \"_mask\" not in filename]\n",
    "\n",
    "folder_path = \"/kaggle/input/breast-ultrasound-images-dataset/Dataset_BUSI_with_GT/malignant\"\n",
    "malignant_images = [os.path.join(folder_path, filename) for filename in os.listdir(folder_path) if \"_mask\" not in filename]\n",
    "\n",
    "\n",
    "# each image is black and white : 500*500 dimensional\n",
    "\n",
    "image = cv2.imread(normal_images[0])\n",
    "\n",
    "print(len(normal_images))\n",
    "print(len(benign_images))\n",
    "print(len(malignant_images))\n",
    "print(image.shape)\n"
   ]
  },
  {
   "cell_type": "code",
   "execution_count": null,
   "id": "305a0549",
   "metadata": {
    "papermill": {
     "duration": 0.0037,
     "end_time": "2023-05-21T12:13:06.008732",
     "exception": false,
     "start_time": "2023-05-21T12:13:06.005032",
     "status": "completed"
    },
    "tags": []
   },
   "outputs": [],
   "source": []
  },
  {
   "cell_type": "code",
   "execution_count": 18,
   "id": "944ad251",
   "metadata": {
    "papermill": {
     "duration": 14.041776,
     "end_time": "2023-05-21T12:13:20.054373",
     "exception": false,
     "start_time": "2023-05-21T12:13:06.012597",
     "status": "completed"
    },
    "tags": []
   },
   "outputs": [
    {
     "ename": "NameError",
     "evalue": "name 'benign_images' is not defined",
     "output_type": "error",
     "traceback": [
      "\u001b[0;31m---------------------------------------------------------------------------\u001b[0m",
      "\u001b[0;31mNameError\u001b[0m                                 Traceback (most recent call last)",
      "Cell \u001b[0;32mIn[18], line 17\u001b[0m\n\u001b[1;32m     13\u001b[0m     normal_matrices\u001b[38;5;241m.\u001b[39mappend(img)\n\u001b[1;32m     15\u001b[0m benign_matrices \u001b[38;5;241m=\u001b[39m []\n\u001b[0;32m---> 17\u001b[0m \u001b[38;5;28;01mfor\u001b[39;00m image_path \u001b[38;5;129;01min\u001b[39;00m benign_images:\n\u001b[1;32m     18\u001b[0m     image \u001b[38;5;241m=\u001b[39m cv2\u001b[38;5;241m.\u001b[39mimread(image_path)\n\u001b[1;32m     19\u001b[0m     resized_image \u001b[38;5;241m=\u001b[39m cv2\u001b[38;5;241m.\u001b[39mresize(image, (\u001b[38;5;241m128\u001b[39m,\u001b[38;5;241m128\u001b[39m))\n",
      "\u001b[0;31mNameError\u001b[0m: name 'benign_images' is not defined"
     ]
    }
   ],
   "source": [
    "# now we have to convert all to pixels\n",
    "\n",
    "# converting all images to 128*128 in grayscale \n",
    "import cv2\n",
    "import numpy as np\n",
    "\n",
    "normal_matrices = []\n",
    "\n",
    "for image_path in normal_images:\n",
    "    image = cv2.imread(image_path)\n",
    "    resized_image = cv2.resize(image, (128,128))\n",
    "    img = cv2.cvtColor(resized_image, cv2.COLOR_BGR2RGB)\n",
    "    normal_matrices.append(img)\n",
    "\n",
    "benign_matrices = []\n",
    "\n",
    "for image_path in benign_images:\n",
    "    image = cv2.imread(image_path)\n",
    "    resized_image = cv2.resize(image, (128,128))\n",
    "    img = cv2.cvtColor(resized_image, cv2.COLOR_BGR2RGB)\n",
    "    benign_matrices.append(img)\n",
    "    \n",
    "malignant_matrices = []\n",
    "\n",
    "for image_path in malignant_images:\n",
    "    image = cv2.imread(image_path)\n",
    "    resized_image = cv2.resize(image, (128,128))\n",
    "    img = cv2.cvtColor(resized_image, cv2.COLOR_BGR2RGB)\n",
    "    malignant_matrices.append(img)\n",
    "    \n",
    "print(normal_matrices[0].shape)\n",
    "    "
   ]
  },
  {
   "cell_type": "code",
   "execution_count": 20,
   "id": "a9b71f06",
   "metadata": {
    "papermill": {
     "duration": 0.060676,
     "end_time": "2023-05-21T12:13:20.119167",
     "exception": false,
     "start_time": "2023-05-21T12:13:20.058491",
     "status": "completed"
    },
    "tags": []
   },
   "outputs": [
    {
     "ename": "NameError",
     "evalue": "name 'malignant_matrices' is not defined",
     "output_type": "error",
     "traceback": [
      "\u001b[0;31m---------------------------------------------------------------------------\u001b[0m",
      "\u001b[0;31mNameError\u001b[0m                                 Traceback (most recent call last)",
      "Cell \u001b[0;32mIn[20], line 9\u001b[0m\n\u001b[1;32m      6\u001b[0m \u001b[38;5;28;01mfor\u001b[39;00m i \u001b[38;5;129;01min\u001b[39;00m benign_matrices:\n\u001b[1;32m      7\u001b[0m     i \u001b[38;5;241m=\u001b[39m i \u001b[38;5;241m/\u001b[39m \u001b[38;5;241m255.0\u001b[39m\n\u001b[0;32m----> 9\u001b[0m \u001b[38;5;28;01mfor\u001b[39;00m i \u001b[38;5;129;01min\u001b[39;00m malignant_matrices:\n\u001b[1;32m     10\u001b[0m     i \u001b[38;5;241m=\u001b[39m i \u001b[38;5;241m/\u001b[39m \u001b[38;5;241m255.0\u001b[39m\n",
      "\u001b[0;31mNameError\u001b[0m: name 'malignant_matrices' is not defined"
     ]
    }
   ],
   "source": [
    "# Normalize the data \n",
    "\n",
    "for i in normal_matrices:\n",
    "    i = i / 255.0\n",
    "\n",
    "for i in benign_matrices:\n",
    "    i = i / 255.0\n",
    "    \n",
    "for i in malignant_matrices:\n",
    "    i = i / 255.0\n",
    "    "
   ]
  },
  {
   "cell_type": "code",
   "execution_count": 22,
   "id": "ad9f1eb6",
   "metadata": {
    "papermill": {
     "duration": 0.761021,
     "end_time": "2023-05-21T12:13:20.884517",
     "exception": false,
     "start_time": "2023-05-21T12:13:20.123496",
     "status": "completed"
    },
    "tags": []
   },
   "outputs": [
    {
     "ename": "NameError",
     "evalue": "name 'malignant_matrices' is not defined",
     "output_type": "error",
     "traceback": [
      "\u001b[0;31m---------------------------------------------------------------------------\u001b[0m",
      "\u001b[0;31mNameError\u001b[0m                                 Traceback (most recent call last)",
      "Cell \u001b[0;32mIn[22], line 5\u001b[0m\n\u001b[1;32m      1\u001b[0m \u001b[38;5;28;01mfrom\u001b[39;00m \u001b[38;5;21;01msklearn\u001b[39;00m\u001b[38;5;21;01m.\u001b[39;00m\u001b[38;5;21;01mmodel_selection\u001b[39;00m \u001b[38;5;28;01mimport\u001b[39;00m train_test_split\n\u001b[1;32m      4\u001b[0m \u001b[38;5;66;03m# Concatenate the arrays vertically\u001b[39;00m\n\u001b[0;32m----> 5\u001b[0m all_images \u001b[38;5;241m=\u001b[39m np\u001b[38;5;241m.\u001b[39mconcatenate((normal_matrices,benign_matrices,malignant_matrices))\n\u001b[1;32m      7\u001b[0m \u001b[38;5;66;03m# Create labels for the classes\u001b[39;00m\n\u001b[1;32m      8\u001b[0m class1_labels \u001b[38;5;241m=\u001b[39m np\u001b[38;5;241m.\u001b[39mzeros(\u001b[38;5;28mlen\u001b[39m(normal_images), dtype\u001b[38;5;241m=\u001b[39m\u001b[38;5;28mint\u001b[39m)\n",
      "\u001b[0;31mNameError\u001b[0m: name 'malignant_matrices' is not defined"
     ]
    }
   ],
   "source": [
    "from sklearn.model_selection import train_test_split\n",
    "\n",
    "\n",
    "# Concatenate the arrays vertically\n",
    "all_images = np.concatenate((normal_matrices,benign_matrices,malignant_matrices))\n",
    "\n",
    "# Create labels for the classes\n",
    "class1_labels = np.zeros(len(normal_images), dtype=int)\n",
    "class2_labels = np.ones(len(benign_images), dtype=int)\n",
    "class3_labels = np.full(len(malignant_images), 2, dtype=int)\n",
    "\n",
    "all_labels = np.concatenate((class1_labels, class2_labels, class3_labels))\n",
    "\n",
    "# Split the data into train and test sets\n",
    "train_images, test_images, train_labels, test_labels = train_test_split(\n",
    "    all_images, all_labels, test_size=0.2, random_state=42\n",
    ")\n",
    "\n",
    "# Print the shapes of the train and test sets\n",
    "print(\"Train images shape:\", train_images.shape)\n",
    "print(\"Test images shape:\", test_images.shape)\n",
    "print(\"Train labels shape:\", train_labels.shape)\n",
    "print(\"Test labels shape:\", test_labels.shape)\n"
   ]
  },
  {
   "cell_type": "code",
   "execution_count": null,
   "id": "e914b19c",
   "metadata": {
    "papermill": {
     "duration": 0.328972,
     "end_time": "2023-05-21T12:13:21.217567",
     "exception": false,
     "start_time": "2023-05-21T12:13:20.888595",
     "status": "completed"
    },
    "tags": []
   },
   "outputs": [],
   "source": [
    "plt.imshow(train_images[0])"
   ]
  },
  {
   "cell_type": "code",
   "execution_count": null,
   "id": "4fc2582d",
   "metadata": {
    "papermill": {
     "duration": 9.367834,
     "end_time": "2023-05-21T12:13:30.590666",
     "exception": false,
     "start_time": "2023-05-21T12:13:21.222832",
     "status": "completed"
    },
    "tags": []
   },
   "outputs": [],
   "source": [
    "import tensorflow as tf\n",
    "from tensorflow import keras \n",
    "import tensorflow_hub as hub\n",
    "from tensorflow.keras import layers\n",
    "from tensorflow.keras import regularizers\n",
    "\n",
    "model = tf.keras.Sequential([\n",
    "    hub.KerasLayer(\"https://kaggle.com/models/google/resnet-v2/frameworks/TensorFlow2/variations/50-feature-vector/versions/2\",\n",
    "               trainable=True, arguments=dict(batch_norm_momentum=0.992)),\n",
    "    tf.keras.layers.Dense(3, activation='softmax',kernel_regularizer=regularizers.l2(0.01)),\n",
    "])\n",
    "\n",
    "model.build([624, 224, 224, None]) \n",
    "\n",
    "print(model.summary())"
   ]
  },
  {
   "cell_type": "code",
   "execution_count": 7,
   "id": "103c3893",
   "metadata": {
    "execution": {
     "iopub.execute_input": "2023-05-21T12:13:30.605264Z",
     "iopub.status.busy": "2023-05-21T12:13:30.604913Z",
     "iopub.status.idle": "2023-05-21T12:15:08.462839Z",
     "shell.execute_reply": "2023-05-21T12:15:08.461731Z"
    },
    "papermill": {
     "duration": 97.881419,
     "end_time": "2023-05-21T12:15:08.478431",
     "exception": false,
     "start_time": "2023-05-21T12:13:30.597012",
     "status": "completed"
    },
    "tags": []
   },
   "outputs": [
    {
     "name": "stdout",
     "output_type": "stream",
     "text": [
      "Epoch 1/10\n",
      "10/10 - 46s - loss: 1.3522 - accuracy: 0.4808 - 46s/epoch - 5s/step\n",
      "Epoch 2/10\n",
      "10/10 - 2s - loss: 0.7555 - accuracy: 0.8862 - 2s/epoch - 185ms/step\n",
      "Epoch 3/10\n",
      "10/10 - 2s - loss: 0.5499 - accuracy: 0.9760 - 2s/epoch - 185ms/step\n",
      "Epoch 4/10\n",
      "10/10 - 2s - loss: 0.4542 - accuracy: 0.9952 - 2s/epoch - 185ms/step\n",
      "Epoch 5/10\n",
      "10/10 - 2s - loss: 0.4008 - accuracy: 1.0000 - 2s/epoch - 186ms/step\n",
      "Epoch 6/10\n",
      "10/10 - 2s - loss: 0.3734 - accuracy: 1.0000 - 2s/epoch - 185ms/step\n",
      "Epoch 7/10\n",
      "10/10 - 2s - loss: 0.3569 - accuracy: 1.0000 - 2s/epoch - 185ms/step\n",
      "Epoch 8/10\n",
      "10/10 - 2s - loss: 0.3443 - accuracy: 1.0000 - 2s/epoch - 186ms/step\n",
      "Epoch 9/10\n",
      "10/10 - 2s - loss: 0.3378 - accuracy: 1.0000 - 2s/epoch - 185ms/step\n",
      "Epoch 10/10\n",
      "10/10 - 2s - loss: 0.3322 - accuracy: 1.0000 - 2s/epoch - 185ms/step\n"
     ]
    },
    {
     "data": {
      "text/plain": [
       "<keras.callbacks.History at 0x79eabc212b00>"
      ]
     },
     "execution_count": 7,
     "metadata": {},
     "output_type": "execute_result"
    }
   ],
   "source": [
    "model.compile(\n",
    "    loss = keras.losses.SparseCategoricalCrossentropy(from_logits=False),\n",
    "    # from logits : appyling softmax to the 1D vector \n",
    "    optimizer = keras.optimizers.Adam(learning_rate = 3e-5),\n",
    "    metrics = [\"accuracy\"]\n",
    ")\n",
    "\n",
    "model.fit(train_images,train_labels,batch_size = 64,epochs = 10,verbose = 2)"
   ]
  },
  {
   "cell_type": "code",
   "execution_count": 8,
   "id": "a8586747",
   "metadata": {
    "execution": {
     "iopub.execute_input": "2023-05-21T12:15:08.511767Z",
     "iopub.status.busy": "2023-05-21T12:15:08.511300Z",
     "iopub.status.idle": "2023-05-21T12:15:10.872610Z",
     "shell.execute_reply": "2023-05-21T12:15:10.871689Z"
    },
    "papermill": {
     "duration": 2.381773,
     "end_time": "2023-05-21T12:15:10.874998",
     "exception": false,
     "start_time": "2023-05-21T12:15:08.493225",
     "status": "completed"
    },
    "tags": []
   },
   "outputs": [
    {
     "name": "stdout",
     "output_type": "stream",
     "text": [
      "3/3 - 2s - loss: 2.7049 - accuracy: 0.5449 - 2s/epoch - 629ms/step\n"
     ]
    },
    {
     "data": {
      "text/plain": [
       "[2.7048912048339844, 0.5448718070983887]"
      ]
     },
     "execution_count": 8,
     "metadata": {},
     "output_type": "execute_result"
    }
   ],
   "source": [
    "model.evaluate(test_images,test_labels,batch_size = 64,verbose = 2)"
   ]
  },
  {
   "cell_type": "code",
   "execution_count": 9,
   "id": "1d42a281",
   "metadata": {
    "execution": {
     "iopub.execute_input": "2023-05-21T12:15:10.893341Z",
     "iopub.status.busy": "2023-05-21T12:15:10.892404Z",
     "iopub.status.idle": "2023-05-21T12:15:11.975195Z",
     "shell.execute_reply": "2023-05-21T12:15:11.974172Z"
    },
    "papermill": {
     "duration": 1.094199,
     "end_time": "2023-05-21T12:15:11.977335",
     "exception": false,
     "start_time": "2023-05-21T12:15:10.883136",
     "status": "completed"
    },
    "tags": []
   },
   "outputs": [
    {
     "name": "stdout",
     "output_type": "stream",
     "text": [
      "(1, 128, 128, 3)\n",
      "1/1 [==============================] - 1s 1s/step\n",
      "[[3.6705060e-05 9.9381363e-01 6.1495998e-03]]\n",
      "Prediction : benign\n"
     ]
    }
   ],
   "source": [
    "# Testing on single images\n",
    "\n",
    "test_image = cv2.imread(\"/kaggle/input/breast-ultrasound-images-dataset/Dataset_BUSI_with_GT/malignant/malignant (101).png\")\n",
    "resized_image = cv2.resize(test_image, (128,128))\n",
    "img = cv2.cvtColor(resized_image, cv2.COLOR_BGR2RGB)\n",
    "img = np.expand_dims(img, axis=0)\n",
    "print(img.shape)\n",
    "pred = model.predict(img)\n",
    "\n",
    "max_index = np.argmax(pred[0])\n",
    "\n",
    "print(pred)\n",
    "\n",
    "if(max_index == 0):\n",
    "    print(\"Prediction : Normal\")\n",
    "elif max_index == 1:\n",
    "    print(\"Prediction : benign\")\n",
    "else:\n",
    "    print(\"Prediction : malignant\")"
   ]
  },
  {
   "cell_type": "markdown",
   "id": "81c8cb5e",
   "metadata": {
    "papermill": {
     "duration": 0.00815,
     "end_time": "2023-05-21T12:15:11.994484",
     "exception": false,
     "start_time": "2023-05-21T12:15:11.986334",
     "status": "completed"
    },
    "tags": []
   },
   "source": [
    "**\n",
    "On Running 3 epochs :-\n",
    "Accuracy on train data = 97%\n",
    "Accuracy on test data = 52%\n",
    "\n",
    "On Running 10 epochs :-\n",
    "6th pe hi 100% accuracy \n",
    "\n",
    "loss is reduced alot but still very high\n",
    "accuracy increase only 2%\n",
    "\n",
    "model is overfitting : we need to add regularizers?\n",
    "\n",
    "To fine tune more we can :\n",
    "\n",
    "->increase learnable params\n",
    "->play with learning rate \n",
    "->add regularizers \n",
    "->change optimizer algorithm?\n",
    "\n",
    "So literally we need to do the same things with SAM as well\n",
    "to get accuracy in SAM \n",
    "\n",
    "but that is not a simple CNN \n",
    "that is a complex architecture \n",
    "\n",
    "have to see what changes in model have to be done rather \n",
    "than simple last layer removal\n",
    "\n"
   ]
  }
 ],
 "metadata": {
  "kernelspec": {
   "display_name": "Python 3 (ipykernel)",
   "language": "python",
   "name": "python3"
  },
  "language_info": {
   "codemirror_mode": {
    "name": "ipython",
    "version": 3
   },
   "file_extension": ".py",
   "mimetype": "text/x-python",
   "name": "python",
   "nbconvert_exporter": "python",
   "pygments_lexer": "ipython3",
   "version": "3.12.4"
  },
  "papermill": {
   "default_parameters": {},
   "duration": 147.938176,
   "end_time": "2023-05-21T12:15:14.963063",
   "environment_variables": {},
   "exception": null,
   "input_path": "__notebook__.ipynb",
   "output_path": "__notebook__.ipynb",
   "parameters": {},
   "start_time": "2023-05-21T12:12:47.024887",
   "version": "2.4.0"
  }
 },
 "nbformat": 4,
 "nbformat_minor": 5
}
